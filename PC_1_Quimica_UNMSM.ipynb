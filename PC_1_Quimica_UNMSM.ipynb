{
  "nbformat": 4,
  "nbformat_minor": 0,
  "metadata": {
    "colab": {
      "provenance": [],
      "include_colab_link": true
    },
    "kernelspec": {
      "name": "python3",
      "display_name": "Python 3"
    },
    "language_info": {
      "name": "python"
    },
    "widgets": {
      "application/vnd.jupyter.widget-state+json": {
        "a294073f4bea450f8e866a1ab0b61f17": {
          "model_module": "faerun-notebook",
          "model_name": "SmilesDrawerModel",
          "model_module_version": "^0.1.5",
          "state": {
            "_dom_classes": [],
            "_model_module": "faerun-notebook",
            "_model_module_version": "^0.1.5",
            "_model_name": "SmilesDrawerModel",
            "_view_count": null,
            "_view_module": "faerun-notebook",
            "_view_module_version": "^0.1.5",
            "_view_name": "SmilesDrawerView",
            "background": "#1e1e1e",
            "border": true,
            "layout": "IPY_MODEL_1475f504ee05471fbeebce9d49ed8751",
            "options": {
              "scale": 1.25
            },
            "output": "svg",
            "theme": "dark",
            "value": [
              [
                "Rxn",
                "C(C1C(C(C(C(O1)O)O)O)O)O.O=O>>C(=O)=O.O"
              ]
            ]
          }
        },
        "1475f504ee05471fbeebce9d49ed8751": {
          "model_module": "@jupyter-widgets/base",
          "model_name": "LayoutModel",
          "model_module_version": "1.2.0",
          "state": {
            "_model_module": "@jupyter-widgets/base",
            "_model_module_version": "1.2.0",
            "_model_name": "LayoutModel",
            "_view_count": null,
            "_view_module": "@jupyter-widgets/base",
            "_view_module_version": "1.2.0",
            "_view_name": "LayoutView",
            "align_content": null,
            "align_items": null,
            "align_self": null,
            "border": null,
            "bottom": null,
            "display": null,
            "flex": null,
            "flex_flow": null,
            "grid_area": null,
            "grid_auto_columns": null,
            "grid_auto_flow": null,
            "grid_auto_rows": null,
            "grid_column": null,
            "grid_gap": null,
            "grid_row": null,
            "grid_template_areas": null,
            "grid_template_columns": null,
            "grid_template_rows": null,
            "height": null,
            "justify_content": null,
            "justify_items": null,
            "left": null,
            "margin": null,
            "max_height": null,
            "max_width": null,
            "min_height": null,
            "min_width": null,
            "object_fit": null,
            "object_position": null,
            "order": null,
            "overflow": null,
            "overflow_x": null,
            "overflow_y": null,
            "padding": null,
            "right": null,
            "top": null,
            "visibility": null,
            "width": null
          }
        }
      }
    }
  },
  "cells": [
    {
      "cell_type": "markdown",
      "metadata": {
        "id": "view-in-github",
        "colab_type": "text"
      },
      "source": [
        "<a href=\"https://colab.research.google.com/github/20yeison01/practicasDeQuimica/blob/main/PC_1_Quimica_UNMSM.ipynb\" target=\"_parent\"><img src=\"https://colab.research.google.com/assets/colab-badge.svg\" alt=\"Open In Colab\"/></a>"
      ]
    },
    {
      "cell_type": "markdown",
      "source": [
        "$$\\Large \\textit{UNMSM | Química}$$\n",
        "$$\\large \\textbf{PC Nº1 | Materia y clasificación}$$\n",
        "\n",
        "_Profesor: Jesus Alvarado Huayhuaz_"
      ],
      "metadata": {
        "id": "sDJAjbaQOj4x"
      }
    },
    {
      "cell_type": "markdown",
      "source": [
        "Todas las indicaciones para la presentación de la práctica son explicadas en clase y brindadas en el material de enunciado de preguntas en formato PDF."
      ],
      "metadata": {
        "id": "_DsTzWLoP7Fy"
      }
    },
    {
      "cell_type": "markdown",
      "source": [
        "## Pregunta 1: Sobre el ABC de python (4 puntos)"
      ],
      "metadata": {
        "id": "obD7c2igOD6t"
      }
    },
    {
      "cell_type": "markdown",
      "source": [
        "Durante la semana de revisión del material \"ABC de python\", reflexiona sobre qué conceptos aprendiste con claridad y cuáles consideras los más desafiantes. A continuación resuelve los siguiente ejercicios, puedes ayudarte del material en http://bit.ly/3YKICSZ."
      ],
      "metadata": {
        "id": "emt93S7dL7QH"
      }
    },
    {
      "cell_type": "code",
      "source": [
        "# Imprime la versión de python que usas y las palabras reservadas de python para esa versión."
      ],
      "metadata": {
        "id": "6mJvqMN0LTU8",
        "outputId": "a671bff5-9541-458c-f295-4da1a0731df0",
        "colab": {
          "base_uri": "https://localhost:8080/"
        }
      },
      "execution_count": 14,
      "outputs": [
        {
          "output_type": "stream",
          "name": "stdout",
          "text": [
            "Python 3.10.12\n"
          ]
        }
      ]
    },
    {
      "cell_type": "code",
      "source": [
        "!python --version\n"
      ],
      "metadata": {
        "id": "UvVlAqQXOW6w",
        "outputId": "6c5df480-4b5c-4558-fc40-e112bf099f49",
        "colab": {
          "base_uri": "https://localhost:8080/"
        }
      },
      "execution_count": 12,
      "outputs": [
        {
          "output_type": "stream",
          "name": "stdout",
          "text": [
            "Python 3.10.12\n"
          ]
        }
      ]
    },
    {
      "cell_type": "code",
      "source": [
        "help(\"keywords\")"
      ],
      "metadata": {
        "id": "qvzIiDzXOgaa",
        "outputId": "0bdbbf77-d9b3-4e42-b118-9c4bbf238cee",
        "colab": {
          "base_uri": "https://localhost:8080/"
        }
      },
      "execution_count": 13,
      "outputs": [
        {
          "output_type": "stream",
          "name": "stdout",
          "text": [
            "\n",
            "Here is a list of the Python keywords.  Enter any keyword to get more help.\n",
            "\n",
            "False               class               from                or\n",
            "None                continue            global              pass\n",
            "True                def                 if                  raise\n",
            "and                 del                 import              return\n",
            "as                  elif                in                  try\n",
            "assert              else                is                  while\n",
            "async               except              lambda              with\n",
            "await               finally             nonlocal            yield\n",
            "break               for                 not                 \n",
            "\n"
          ]
        }
      ]
    },
    {
      "cell_type": "code",
      "source": [
        "# Crea una matriz de 3x3 e imprime la suma de los elementos en su diagonal (traza).\n"
      ],
      "metadata": {
        "id": "MxDzGypdLTXh"
      },
      "execution_count": null,
      "outputs": []
    },
    {
      "cell_type": "code",
      "source": [
        "matriz = [[12, 4, 8], [15, 10, 8], [7, 5, 2]]\n",
        "\n",
        "suma_diagonal = 0\n",
        "for i in range(len(matriz)):\n",
        "    suma_diagonal += matriz[i][i]\n",
        "\n",
        "print(\"La suma de los elementos en la diagonal es:\", suma_diagonal)"
      ],
      "metadata": {
        "id": "DhgnU-olPTaB",
        "outputId": "b7a1d46f-05a6-4328-bc68-68a6857250a8",
        "colab": {
          "base_uri": "https://localhost:8080/"
        }
      },
      "execution_count": 16,
      "outputs": [
        {
          "output_type": "stream",
          "name": "stdout",
          "text": [
            "La suma de los elementos en la diagonal es: 24\n"
          ]
        }
      ]
    },
    {
      "cell_type": "code",
      "source": [
        "# Guarda como variable la masa atómica de los elementos C, H y O, e imprime la masa molecular del etanol.\n",
        "\n",
        "masa_C = 12.01\n",
        "masa_H = 1.008\n",
        "masa_O = 16.00\n",
        "\n",
        "num_C = 2\n",
        "num_H = 6\n",
        "num_O = 1\n",
        "\n",
        "masa_molecular = (num_C * masa_C) + (num_H * masa_H) + (num_O * masa_O)\n",
        "\n",
        "print(\"La masa molecular del etanol (C2H6O) es:\", masa_molecular, \"u\")"
      ],
      "metadata": {
        "id": "MyhNX7JmLTSe"
      },
      "execution_count": null,
      "outputs": []
    },
    {
      "cell_type": "code",
      "source": [
        "# Busca la temperatura de fusión en Celsius de 5 metales y guárdalos en una lista. Imprime las temperaturas en Kelvin"
      ],
      "metadata": {
        "id": "NCOnJ0FwgLLc"
      },
      "execution_count": 17,
      "outputs": []
    },
    {
      "cell_type": "code",
      "source": [
        "temperaturas_celsius = {\n",
        "    \"MERCURIO\": -38.83,\n",
        "    \"PLATA\": 961.78,\n",
        "    \"PLATINO\": 1768.3,\n",
        "    \"POTASIO\": 63.38,\n",
        "    \"BERILIO\": 1287\n",
        "    }\n",
        "\n",
        "temperaturas_kelvin = [temp + 273.15 for temp in temperaturas_celsius.values()]\n",
        "\n",
        "\n",
        "for metal, temp in zip(temperaturas_celsius.keys(), temperaturas_kelvin): print(f\"Temperatura de fusión de {metal}: {temp} K\")\n"
      ],
      "metadata": {
        "id": "uqTeVVt3RL6y",
        "outputId": "b0d03d14-a767-4d59-f003-5efee120a640",
        "colab": {
          "base_uri": "https://localhost:8080/"
        }
      },
      "execution_count": 19,
      "outputs": [
        {
          "output_type": "stream",
          "name": "stdout",
          "text": [
            "Temperatura de fusión de MERCURIO: 234.32 K\n",
            "Temperatura de fusión de PLATA: 1234.9299999999998 K\n",
            "Temperatura de fusión de PLATINO: 2041.4499999999998 K\n",
            "Temperatura de fusión de POTASIO: 336.53 K\n",
            "Temperatura de fusión de BERILIO: 1560.15 K\n"
          ]
        }
      ]
    },
    {
      "cell_type": "markdown",
      "source": [
        "## Pregunta 2: Operaciones (4 puntos)"
      ],
      "metadata": {
        "id": "epzOadagLfPi"
      }
    },
    {
      "cell_type": "markdown",
      "source": [
        "Escribe un programa que lea repetidamente elementos químicos en español hasta que el usuario introduzca “fin”. Una vez se haya introducido “fin”, muestra por pantalla (o sea imprime) el total de elementos ingresados. Si el usuario introduce cualquier otra cosa que no sea un elemento químico, detecta su fallo usando try y except, muestra un mensaje de error y pasa al siguiente elemento."
      ],
      "metadata": {
        "id": "MbAEOGPsjOWZ"
      }
    },
    {
      "cell_type": "code",
      "source": [
        "# Diccionario de elementos químicos en español\n",
        "elementos_quimicos = {\n",
        "    \"hidrogeno\": \"H\",\n",
        "    \"plata\": \"Ag\",\n",
        "    \"boro\": \"B\",\n",
        "    \"carbono\": \"C\",\n",
        "    \"nitrogeno\": \"N\",\n",
        "    \"oxigeno\": \"O\",\n",
        "    \"flúor\": \"F\",\n",
        "    \"sodio\": \"Na\",\n",
        "    \"aluminio\": \"Al\",\n",
        "    \"fosforo\": \"P\",\n",
        "    \"azufre\": \"S\",\n",
        "\n",
        "    # Puedes agregar más elementos aquí\n",
        "}\n",
        "\n",
        "# Variable para almacenar el contador de elementos ingresados\n",
        "total_elementos = 0\n",
        "\n",
        "while True:\n",
        "    # Solicitar al usuario que ingrese un elemento químico en español\n",
        "    elemento = input(\"Ingrese un elemento químico en español (o 'fin' para finalizar): \").lower()\n",
        "\n",
        "    if elemento == 'fin':\n",
        "        break  # Salir del bucle si se ingresa \"fin\"\n",
        "\n",
        "    try:\n",
        "        # Intentar obtener el símbolo químico del diccionario\n",
        "        simbolo = elementos_quimicos.get(elemento)\n",
        "        if simbolo is not None:\n",
        "            print(f\"Símbolo químico de {elemento}: {simbolo}\")\n",
        "            total_elementos += 1\n",
        "        else:\n",
        "            raise KeyError()  # Lanzar una excepción si el elemento no está en el diccionario\n",
        "    except KeyError:\n",
        "        # Manejar el error si el elemento no se encuentra en el diccionario\n",
        "        print(f\"Error: '{elemento}' no es un elemento químico válido.\")\n",
        "\n",
        "# Mostrar el total de elementos ingresados\n",
        "print(f\"Total de elementos químicos ingresados: {total_elementos}\")"
      ],
      "metadata": {
        "id": "gJGX0p5QLetj",
        "outputId": "de63c80f-114e-4fda-a83b-b428e7adc67f",
        "colab": {
          "base_uri": "https://localhost:8080/"
        }
      },
      "execution_count": 47,
      "outputs": [
        {
          "output_type": "stream",
          "name": "stdout",
          "text": [
            "Ingrese un elemento químico en español (o 'fin' para finalizar): hidrogeno\n",
            "Símbolo químico de hidrogeno: H\n",
            "Ingrese un elemento químico en español (o 'fin' para finalizar): aluminio\n",
            "Símbolo químico de aluminio: Al\n",
            "Ingrese un elemento químico en español (o 'fin' para finalizar): carbono\n",
            "Símbolo químico de carbono: C\n",
            "Ingrese un elemento químico en español (o 'fin' para finalizar): mercurio\n",
            "Error: 'mercurio' no es un elemento químico válido.\n",
            "Ingrese un elemento químico en español (o 'fin' para finalizar): fin\n",
            "Total de elementos químicos ingresados: 3\n"
          ]
        }
      ]
    },
    {
      "cell_type": "markdown",
      "source": [
        "# Pregunta 3: Conservación de la masa (4 puntos)"
      ],
      "metadata": {
        "id": "QAReUdAkicWS"
      }
    },
    {
      "cell_type": "markdown",
      "source": [
        "### Código necesario para generar la imagen"
      ],
      "metadata": {
        "id": "mMV9c3hDl7KL"
      }
    },
    {
      "cell_type": "code",
      "source": [
        "!pip install faerun-notebook==0.1.5b0\n",
        "\n",
        "import ipywidgets as widgets\n",
        "from faerun_notebook import SmilesDrawer\n",
        "from google.colab import output\n",
        "output.enable_custom_widget_manager()"
      ],
      "metadata": {
        "id": "JgF8Ohtbky65"
      },
      "execution_count": null,
      "outputs": []
    },
    {
      "cell_type": "markdown",
      "source": [
        "### Reacción química"
      ],
      "metadata": {
        "id": "5sLC10D_oSrV"
      }
    },
    {
      "cell_type": "markdown",
      "source": [
        "Demuestra cómo se cumple la conservación de la masa en la siguiente reacción química. Sugerencia: hacer un balance estequiométrico y luego emplear la masa molecular de reactivos y productos."
      ],
      "metadata": {
        "id": "OVRhAzaVmD86"
      }
    },
    {
      "cell_type": "markdown",
      "source": [
        "## Pregunta 4: Notación científica (4 puntos)"
      ],
      "metadata": {
        "id": "Rh-nAUiKhJNB"
      }
    },
    {
      "cell_type": "code",
      "source": [
        "SmilesDrawer(value=[(\"Rxn\", \"C(C1C(C(C(C(O1)O)O)O)O)O.O=O>>C(=O)=O.O\")], theme='dark', background=\"#1e1e1e\", options={'scale': 1.25})"
      ],
      "metadata": {
        "colab": {
          "base_uri": "https://localhost:8080/",
          "height": 289,
          "referenced_widgets": [
            "a294073f4bea450f8e866a1ab0b61f17",
            "1475f504ee05471fbeebce9d49ed8751"
          ]
        },
        "id": "CC0mAXWmnYyN",
        "outputId": "88082897-db95-4550-8289-1def4a4d2f8d"
      },
      "execution_count": 34,
      "outputs": [
        {
          "output_type": "display_data",
          "data": {
            "text/plain": [
              "SmilesDrawer(background='#1e1e1e', options={'scale': 1.25}, theme='dark', value=[('Rxn', 'C(C1C(C(C(C(O1)O)O)O…"
            ],
            "application/vnd.jupyter.widget-view+json": {
              "version_major": 2,
              "version_minor": 0,
              "model_id": "a294073f4bea450f8e866a1ab0b61f17"
            }
          },
          "metadata": {
            "application/vnd.jupyter.widget-view+json": {
              "colab": {
                "custom_widget_manager": {
                  "url": "https://ssl.gstatic.com/colaboratory-static/widgets/colab-cdn-widget-manager/b3e629b1971e1542/manager.min.js"
                }
              }
            }
          }
        }
      ]
    },
    {
      "cell_type": "markdown",
      "source": [
        "# C_6 H_12 O_6\n"
      ],
      "metadata": {
        "id": "81QkybbKW6rI"
      }
    },
    {
      "cell_type": "code",
      "source": [
        "# las masas atomicas son:\n",
        "C = 12\n",
        "H = 1\n",
        "O =16\n",
        "\n",
        "# La formula molecular de la glucosa es C6H12O6:\n",
        "masa_molecular_glucosa = C*6 + H*12 + O*6\n",
        "masa_molecular_glucosa"
      ],
      "metadata": {
        "id": "E2ETGyfHXtM5",
        "outputId": "cba05dea-6021-490c-cbea-62585d88cf01",
        "colab": {
          "base_uri": "https://localhost:8080/"
        }
      },
      "execution_count": 36,
      "outputs": [
        {
          "output_type": "execute_result",
          "data": {
            "text/plain": [
              "180"
            ]
          },
          "metadata": {},
          "execution_count": 36
        }
      ]
    },
    {
      "cell_type": "code",
      "source": [
        "masa_molecular_oxigeno = O*2\n",
        "masa_molecular_CO2 = C+O*2\n",
        "masa_molecular_agua = O+H*2"
      ],
      "metadata": {
        "id": "TVLtkrwGYNCh"
      },
      "execution_count": 41,
      "outputs": []
    },
    {
      "cell_type": "code",
      "source": [
        "masa_reactivos = masa_molecular_glucosa + masa_molecular_oxigeno\n",
        "masa_reactivos"
      ],
      "metadata": {
        "id": "R1zhQ8bkY-OJ",
        "outputId": "ba415fca-b0a9-4b06-dcd8-3a606b9d1ca0",
        "colab": {
          "base_uri": "https://localhost:8080/"
        }
      },
      "execution_count": 39,
      "outputs": [
        {
          "output_type": "execute_result",
          "data": {
            "text/plain": [
              "212"
            ]
          },
          "metadata": {},
          "execution_count": 39
        }
      ]
    },
    {
      "cell_type": "code",
      "source": [
        "masa_productos = masa_molecular_CO2 + masa_molecular_agua\n",
        "masa_productos"
      ],
      "metadata": {
        "id": "nJ2j_th9ZUsZ",
        "outputId": "af1ea6e4-add5-49eb-d065-29a5a8442dae",
        "colab": {
          "base_uri": "https://localhost:8080/"
        }
      },
      "execution_count": 43,
      "outputs": [
        {
          "output_type": "execute_result",
          "data": {
            "text/plain": [
              "62"
            ]
          },
          "metadata": {},
          "execution_count": 43
        }
      ]
    },
    {
      "cell_type": "code",
      "source": [
        "masa_molecular_glucosa + masa_molecular_oxigeno*6"
      ],
      "metadata": {
        "id": "14J_65hPdsiq",
        "outputId": "704dc1eb-5414-4694-898d-af4de60e2fa1",
        "colab": {
          "base_uri": "https://localhost:8080/"
        }
      },
      "execution_count": 44,
      "outputs": [
        {
          "output_type": "execute_result",
          "data": {
            "text/plain": [
              "372"
            ]
          },
          "metadata": {},
          "execution_count": 44
        }
      ]
    },
    {
      "cell_type": "code",
      "source": [
        "masa_molecular_CO2*6 + masa_molecular_agua*6"
      ],
      "metadata": {
        "id": "61b7gkfAd8vg",
        "outputId": "1f7dd3d9-d18d-4464-8e04-6462fd336330",
        "colab": {
          "base_uri": "https://localhost:8080/"
        }
      },
      "execution_count": 45,
      "outputs": [
        {
          "output_type": "execute_result",
          "data": {
            "text/plain": [
              "372"
            ]
          },
          "metadata": {},
          "execution_count": 45
        }
      ]
    },
    {
      "cell_type": "markdown",
      "source": [
        "Imprime las siguientes operaciones según la notación científica:\n",
        "\n",
        "(1) $1.321 \\times 10^{-4} + 8.5 \\times 10^{-2}$\n",
        "\n",
        "(2) $1.71 \\times 10^{3} - 2.01 \\times 10^{2}\\$\n",
        "\n",
        "(3) $(7.4 \\times 10^5)(7.2 \\times 10^4)$\n",
        "\n",
        "(4) $(7.4 \\times 10^5)/(7.2 \\times 10^4)$"
      ],
      "metadata": {
        "id": "NIkI45Xdqqnt"
      }
    },
    {
      "cell_type": "code",
      "source": [
        "resultado_1 = 1.321e-4 + 8.5e-2\n",
        "print(\"Resultado (1):\", resultado_1)\n",
        "\n",
        "resultado_2 = 1.71e3 - 2.01e2\n",
        "print(\"Resultado (2):\", resultado_2)\n",
        "\n",
        "resultado_3 = (7.4e5) * (7.2e4)\n",
        "print(\"Resultado (3):\", resultado_3)\n",
        "\n",
        "resultado_4 = (7.4e5) / (7.2e4)\n",
        "print(\"Resultado (4):\", resultado_4)\n"
      ],
      "metadata": {
        "id": "DaTDGDs__r5v",
        "outputId": "ea73fcaf-7474-4160-9f27-215f5327b472",
        "colab": {
          "base_uri": "https://localhost:8080/"
        }
      },
      "execution_count": 10,
      "outputs": [
        {
          "output_type": "stream",
          "name": "stdout",
          "text": [
            "Resultado (1): 0.0851321\n",
            "Resultado (2): 1509.0\n",
            "Resultado (3): 53280000000.0\n",
            "Resultado (4): 10.277777777777779\n"
          ]
        }
      ]
    },
    {
      "cell_type": "markdown",
      "source": [
        "Sobre los resultados obtenidos lo expresamos en notación cientifica:\n",
        "\n",
        "(1)  1.321×10−4+8.5×10−2\n",
        "\n",
        "![WhatsApp Image 2023-09-04 at 19.59.18.jpeg](data:image/jpeg;base64,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)\n",
        "\n",
        "\n",
        "\n",
        "![WhatsApp Image 2023-09-04 at 19.59.51.jpeg](data:image/jpeg;base64,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)\n",
        "\n",
        "\n",
        "![WhatsApp Image 2023-09-04 at 19.58.45.jpeg](data:image/jpeg;base64,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)\n",
        "\n",
        "\n",
        "(2)  1.71×103−2.01×102\n",
        "\n",
        "![r2.jpeg](data:image/jpeg;base64,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)\n",
        "\n",
        "\n",
        "![r.2.1.jpeg](data:image/jpeg;base64,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)\n",
        "\n",
        "\n",
        "![r.2.2.jpeg](data:image/jpeg;base64,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)\n",
        "\n",
        "\n",
        "\n",
        "\n",
        "\n",
        "(3)  (7.4×105)(7.2×104)\n",
        "\n",
        "\n",
        "![r.3.jpeg](data:image/jpeg;base64,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)\n",
        "\n",
        "\n",
        "![r.3.1.jpeg](data:image/jpeg;base64,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)\n",
        "\n",
        "\n",
        "![r.32..jpeg](data:image/jpeg;base64,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)\n",
        "\n",
        "\n",
        "(4)  (7.4×105)/(7.2×104)\n",
        "\n",
        "![r.4.jpeg](data:image/jpeg;base64,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)\n",
        "\n",
        "\n",
        "![r.4.2.jpeg](data:image/jpeg;base64,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)\n",
        "\n",
        "\n",
        "![r.4.3.jpeg](data:image/jpeg;base64,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)\n"
      ],
      "metadata": {
        "id": "ndZiiLwjJuOQ"
      }
    },
    {
      "cell_type": "markdown",
      "source": [
        "## Pregunta 5: Método científico (4 puntos)"
      ],
      "metadata": {
        "id": "CuzCcXJghR14"
      }
    },
    {
      "cell_type": "markdown",
      "source": [
        "Artículo: https://bit.ly/3surZ1W\n",
        "Leer el siguiente artículo y explica cómo es aplicado el método científico. Emplea como máximo 300 palabras."
      ],
      "metadata": {
        "id": "WngRSR-Rhmx1"
      }
    },
    {
      "cell_type": "markdown",
      "source": [
        "Según el texto del link proporcionado, explicamos usando los pasos del metodo de observación\n",
        "\n",
        "1. En la **Observación**: El LK-99 se observa que es un superconductor a temperatura ambiente y presión normal, por lo que genera asombro en la comunidad científica y el público en general.\n",
        "\n",
        "2. Sobre la **Formulación de hipótesis**: Se formula la hipótesis en base a la observación y las propiedades observadas del material LK-99. Es por ello que se realizan preguntas sobre la validez de esta afirmació\n",
        "\n",
        "3. En la **experimentación**: Se realizan experimentos e investigaciones al LK-99 para poder explicar su estructura quimica. Porlo que se hace un analisis de sus propieddes como la resistividad eléctrica y la levitación sobre imanes.\n",
        "\n",
        "4. En la **recopilación de datos**: Se acumulan datos a lo largo de los experimentos, incluidos los resultados de las pruebas de resistividad, los análisis de la estructura de LK-99 y la observación de su comportamiento en presencia de impurezas como el sulfuro de cobre.\n",
        "\n",
        "5. sobre Análisis de datos y conclusiones: Tomando en cuenta los datos obtenidos luego del analisis, los investigadores y científicos llegan a la conclusion de que LK-99 es un superconductor a temperatura ambiente, por lo que reafirmana la hipotesis formulada desde el inicio. Ademas da como  explicación lógica de la presencia de impurezas de sulfuro de cobre que vendrian ser los responsables de la propiedades del LK-99.\n",
        "\n",
        "6. Por lo que en la **Conclusión**: estos resultados tanto de investigación y experimentación obtenidos llegan a la conclusion de que LK-99 es un superconductor a temperatura ambiente\n",
        "\n",
        "7. Sobre la **Comunicación**: Estos resultados se comunican mediante publicaciones científicas y se comparten con la comunidad científica.\n",
        "Resaltando la importancia de la investigación y la necesidad de apoyar afirmaciones científicas."
      ],
      "metadata": {
        "id": "HUXL5L-C-tHI"
      }
    }
  ]
}